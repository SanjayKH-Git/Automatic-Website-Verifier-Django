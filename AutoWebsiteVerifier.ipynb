{
 "cells": [
  {
   "cell_type": "code",
   "execution_count": 1,
   "metadata": {},
   "outputs": [],
   "source": [
    "import pandas as pd\n",
    "import bs4\n",
    "from bs4 import BeautifulSoup\n",
    "import requests"
   ]
  },
  {
   "cell_type": "code",
   "execution_count": 3,
   "metadata": {},
   "outputs": [
    {
     "name": "stdout",
     "output_type": "stream",
     "text": [
      "No\n"
     ]
    }
   ],
   "source": [
    "ex_file = pd.read_excel(\"WebsiteVerifyData.xlsx\")\n",
    "Active_series=pd.Series([])\n",
    "content_series=pd.Series([])\n",
    "for sl, webLink in enumerate(ex_file['WebsiteLink'].values):    \n",
    "    try:\n",
    "        status_code=requests.head(webLink).status_code        \n",
    "        if status_code==200:            \n",
    "            Active_series[sl]=\"yes\"           \n",
    "            page=requests.get(webLink)\n",
    "            soup=BeautifulSoup(page.content,'html.parser')\n",
    "            for title in soup.find_all('title'):                \n",
    "                content_series[sl]=title.get_text()                                \n",
    "        else:\n",
    "            Active_series[sl]=\"No\"\n",
    "                    \n",
    "    except Exception:\n",
    "        print(\"No\")\n",
    "        Active_series[sl]=\"No\"\n",
    "        \n",
    "ex_file=pd.DataFrame(ex_file)\n",
    "ex_file['Active']=Active_series\n",
    "ex_file['Content']=content_series\n",
    "ex_file.to_excel(\"WebsiteVerifyData.xlsx\",index=False)"
   ]
  },
  {
   "cell_type": "code",
   "execution_count": null,
   "metadata": {},
   "outputs": [],
   "source": []
  }
 ],
 "metadata": {
  "kernelspec": {
   "display_name": "Python 3",
   "language": "python",
   "name": "python3"
  },
  "language_info": {
   "codemirror_mode": {
    "name": "ipython",
    "version": 3
   },
   "file_extension": ".py",
   "mimetype": "text/x-python",
   "name": "python",
   "nbconvert_exporter": "python",
   "pygments_lexer": "ipython3",
   "version": "3.7.4"
  }
 },
 "nbformat": 4,
 "nbformat_minor": 2
}
